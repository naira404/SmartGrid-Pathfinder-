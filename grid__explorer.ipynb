{
  "nbformat": 4,
  "nbformat_minor": 0,
  "metadata": {
    "colab": {
      "provenance": []
    },
    "kernelspec": {
      "name": "python3",
      "display_name": "Python 3"
    },
    "language_info": {
      "name": "python"
    }
  },
  "cells": [
    {
      "cell_type": "markdown",
      "source": [
        "## 🌟 1. Project Idea\n",
        "\n",
        "In this project, we are working on a path planning problem for a robot on a 15x15 grid.  \n",
        "\n",
        "🎯 *Objective: Move from a defined **start point* to a *goal point*, while:\n",
        "- ✅ Collecting predefined *items*\n",
        "- 🚫 Avoiding *obstacles*\n",
        "\n",
        "To achieve this, we implemented and compared the performance of *three bio-inspired optimization algorithms*:\n",
        "- 🐜 *Ant Colony Optimization (ACO)*\n",
        "- 🐝 *Artificial Bee Colony (ABC)*\n",
        "- 🐦 *Particle Swarm Optimization (PSO)*\n",
        "\n",
        "The goal is to find the most efficient and intelligent path for the robot.\n"
      ],
      "metadata": {
        "id": "TXr8sEjTkAHi"
      }
    },
    {
      "cell_type": "code",
      "source": [
        "import numpy as np\n",
        "import random\n",
        "import matplotlib.pyplot as plt\n",
        "from tabulate import tabulate\n",
        "from collections import deque\n",
        "from copy import deepcopy"
      ],
      "metadata": {
        "id": "9HYoF3Rokrxy"
      },
      "execution_count": null,
      "outputs": []
    },
    {
      "cell_type": "markdown",
      "source": [
        "## 🧱 Grid and Problem Setup\n",
        "\n",
        "We use a 20x20 grid where:\n",
        "- 0 represents free space\n",
        "- 1 represents obstacles\n",
        "- Special cells contain *items to be collected* 🧩"
      ],
      "metadata": {
        "id": "d3KK-3LNprc2"
      }
    },
    {
      "cell_type": "code",
      "source": [
        "def create_grid(grid_size, num_obstacles, start, goal):\n",
        "    grid = np.zeros((grid_size, grid_size), dtype=int)\n",
        "    obstacles = set()\n",
        "\n",
        "    while len(obstacles) < num_obstacles:\n",
        "        x, y = random.randint(0, grid_size-1), random.randint(0, grid_size-1)\n",
        "        if (x, y) not in {start, goal}:\n",
        "            obstacles.add((x, y))\n",
        "            grid[x][y] = 1\n",
        "    return grid"
      ],
      "metadata": {
        "id": "kF0EiJwj3Dus"
      },
      "execution_count": null,
      "outputs": []
    },
    {
      "cell_type": "markdown",
      "source": [
        "### 🔍 BFS with Random Exploration\n",
        "\n",
        "This function finds a path from the *start* to the *goal* using *Breadth-First Search, exploring neighbors in a random order*.\n",
        "\n",
        "#### 🔧 How It Works:\n",
        "- Starts from the initial position.\n",
        "- Explores all valid neighboring cells using a queue.\n",
        "- Randomizes neighbor order to introduce variety.\n",
        "- Stops when the goal is reached.\n",
        "\n",
        "#### 📦 Returns:\n",
        "- A list of positions from start to goal.\n",
        "- None if no path is found.\n",
        "\n",
        "> 🚀 Useful for generating diverse paths in ABC and PSO algorithms.\n"
      ],
      "metadata": {
        "id": "1fUuN5-stnCx"
      }
    },
    {
      "cell_type": "code",
      "source": [
        "def bfs_path(grid, start, goal):\n",
        "    \"\"\"BFS with random exploration\"\"\"\n",
        "    visited = set()\n",
        "    queue = deque([[start]])\n",
        "\n",
        "    while queue:\n",
        "        path = queue.popleft()\n",
        "        current = path[-1]\n",
        "\n",
        "        if current == goal:\n",
        "            return path\n",
        "\n",
        "        neighbors = []\n",
        "        for dx, dy in random.sample([(0,1), (1,0), (0,-1), (-1,0)], 4):\n",
        "            neighbor = (current[0]+dx, current[1]+dy)\n",
        "            if is_valid(grid, neighbor) and neighbor not in visited:\n",
        "                neighbors.append(neighbor)\n",
        "\n",
        "        for neighbor in neighbors:\n",
        "            visited.add(neighbor)\n",
        "            new_path = list(path)\n",
        "            new_path.append(neighbor)\n",
        "            queue.append(new_path)\n",
        "\n",
        "    return None\n"
      ],
      "metadata": {
        "id": "eJyfmE5K3In1"
      },
      "execution_count": null,
      "outputs": []
    },
    {
      "cell_type": "markdown",
      "source": [
        "### 🎯 add_items Function (Summary)\n",
        "\n",
        "Places a set number of items on the grid while making sure:\n",
        "- They don’t block the start or goal.\n",
        "- Each item can be reached from the start and can reach the goal."
      ],
      "metadata": {
        "id": "XjyeoXijuMH9"
      }
    },
    {
      "cell_type": "code",
      "source": [
        "def add_items(grid, start, goal, num_items=5):\n",
        "    \"\"\"Add items with guaranteed accessibility\"\"\"\n",
        "    items = set()\n",
        "    while len(items) < num_items:\n",
        "        x, y = random.randint(0, grid.shape[0]-1), random.randint(0, grid.shape[1]-1)\n",
        "        pos = (x, y)\n",
        "        if (grid[x][y] == 0 and pos not in {start, goal} and\n",
        "            bfs_path(grid, start, pos) and bfs_path(grid, pos, goal)):\n",
        "            items.add(pos)\n",
        "    return items\n"
      ],
      "metadata": {
        "id": "StC_mdmM3MP0"
      },
      "execution_count": null,
      "outputs": []
    },
    {
      "cell_type": "markdown",
      "source": [
        "## 🧠 2. How We Applied ACO, ABC & PSO in Our Grid\n",
        "\n",
        "Each algorithm was tested on the *same environment* to ensure fairness:\n",
        "- Same *grid configuration*\n",
        "- Same *start & goal*\n",
        "- Same number of *items* and *obstacles*\n",
        "\n",
        "🔍 Here's how each algorithm works in our project:\n",
        "\n",
        "\n",
        "### 🐝 Artificial Bee Colony (ABC)\n",
        "Bees explore and exploit food sources (paths). Employed bees search locally, while scout bees explore randomly.\n",
        "\n",
        "\n",
        "---"
      ],
      "metadata": {
        "id": "pfkO6wB7mCLc"
      }
    },
    {
      "cell_type": "code",
      "source": [
        "def abc_optimizer(grid, start, goal, items, colony_size=30, max_iter=100):\n",
        "    def generate_candidate(base_path):\n",
        "        new_path = bfs_path(grid, start, goal) or [start]\n",
        "        crossover = random.randint(1, min(len(base_path), len(new_path))-1)\n",
        "        candidate = base_path[:crossover] + new_path[crossover:]\n",
        "        return [p for p in candidate if is_valid(grid, p)]\n",
        "\n",
        "    population = [bfs_path(grid, start, goal) or [start] for _ in range(colony_size)]\n",
        "    best_path = min(population, key=len)\n",
        "\n",
        "    for _ in range(max_iter):\n",
        "        # Employed bees phase\n",
        "        for i in range(colony_size):\n",
        "            candidate = generate_candidate(population[i])\n",
        "            if len(candidate) < len(population[i]):\n",
        "                population[i] = candidate\n",
        "\n",
        "        # Onlooker bees phase\n",
        "        fitness = [1/(1+len(p)) for p in population]\n",
        "        probs = [f/sum(fitness) for f in fitness]\n",
        "        for _ in range(colony_size):\n",
        "            i = np.random.choice(len(population), p=probs)\n",
        "            candidate = generate_candidate(population[i])\n",
        "            if len(candidate) < len(population[i]):\n",
        "                population[i] = candidate\n",
        "\n",
        "        # Scout bees phase\n",
        "        if random.random() < 0.1:\n",
        "            idx = random.randint(0, colony_size-1)\n",
        "            population[idx] = bfs_path(grid, start, goal) or [start]\n",
        "\n",
        "        # Update best\n",
        "        current_best = min(population, key=len)\n",
        "        if len(current_best) < len(best_path):\n",
        "            best_path = current_best\n",
        "\n",
        "    return best_path, items_along_path(best_path, items)\n",
        "\n",
        "\n",
        "\n",
        "    return best_path if best_path else [start], best_items"
      ],
      "metadata": {
        "id": "Mk3lZiKD3Nws"
      },
      "execution_count": null,
      "outputs": []
    },
    {
      "cell_type": "markdown",
      "source": [
        "### 🐜 Ant Colony Optimization (ACO)\n",
        "Simulates ants leaving pheromone trails. Better paths leave stronger pheromones, guiding others toward optimal paths.\n"
      ],
      "metadata": {
        "id": "rn5JopuwmwsN"
      }
    },
    {
      "cell_type": "code",
      "source": [
        "def aco_optimizer(grid, start, goal, items, ants=30, iterations=100):\n",
        "    pheromone = np.ones(grid.shape) * 0.1\n",
        "    best_path = None\n",
        "    best_items = set()\n",
        "\n",
        "    for _ in range(iterations):\n",
        "        paths = []\n",
        "        for _ in range(ants):\n",
        "            path = []\n",
        "            current = start\n",
        "            visited = set()\n",
        "            collected = set()\n",
        "\n",
        "            while current != goal:\n",
        "                path.append(current)\n",
        "                visited.add(current)\n",
        "\n",
        "                if current in items:\n",
        "                    collected.add(current)\n",
        "\n",
        "                # Get valid neighbors\n",
        "                neighbors = []\n",
        "                for dx, dy in [(0,1), (1,0), (0,-1), (-1,0)]:\n",
        "                    neighbor = (current[0]+dx, current[1]+dy)\n",
        "                    if is_valid(grid, neighbor) and neighbor not in visited:\n",
        "                        neighbors.append(neighbor)\n",
        "\n",
        "                if not neighbors:\n",
        "                    break\n",
        "\n",
        "                # Fixed probability calculation\n",
        "                indices = list(range(len(neighbors)))\n",
        "                weights = [pheromone[n] * 1/(1 + distance(n, goal)) for n in neighbors]  # Fixed line\n",
        "                total = sum(weights)\n",
        "\n",
        "                if total <= 0:\n",
        "                    current = random.choice(neighbors)\n",
        "                else:\n",
        "                    probs = [w/total for w in weights]\n",
        "                    selected_idx = np.random.choice(indices, p=probs)\n",
        "                    current = neighbors[selected_idx]\n",
        "\n",
        "            if current == goal:\n",
        "                path.append(goal)\n",
        "                paths.append((path, collected))\n",
        "                if len(collected) > len(best_items):\n",
        "                    best_path = path\n",
        "                    best_items = collected.copy()\n",
        "\n",
        "        # Update pheromones\n",
        "        pheromone *= 0.95\n",
        "        for path, collected in paths:\n",
        "            for pos in path:\n",
        "                pheromone[pos] += 0.1 * (1 + len(collected))\n",
        "\n",
        "    return best_path if best_path else [start], best_items"
      ],
      "metadata": {
        "id": "uIJWPJ3B3aCV"
      },
      "execution_count": null,
      "outputs": []
    },
    {
      "cell_type": "markdown",
      "source": [
        "### 🐦 Particle Swarm Optimization (PSO)\n",
        "Particles move in the grid and adjust their directions based on their best path and the global best, mimicking bird flocking behavior.\n"
      ],
      "metadata": {
        "id": "7Ekmce_pm5oq"
      }
    },
    {
      "cell_type": "code",
      "source": [
        "def pso_optimizer(grid, start, goal, items, particles=30, iterations=100):\n",
        "    class Particle:\n",
        "        def __init__(self):\n",
        "            self.path = bfs_path(grid, start, goal) or [start]\n",
        "            self.best_path = self.path.copy()\n",
        "            self.best_score = self.score()\n",
        "\n",
        "        def score(self):\n",
        "            return len(self.path) - 10*len(items_along_path(self.path, items))\n",
        "\n",
        "        def update(self, global_best):\n",
        "            crossover = random.randint(1, min(len(self.path), len(global_best))-1)\n",
        "            new_path = self.path[:crossover] + global_best[crossover:]\n",
        "            new_path = repair_path(new_path)\n",
        "            new_score = len(new_path) - 10*len(items_along_path(new_path, items))\n",
        "\n",
        "            if new_score < self.best_score:\n",
        "                self.best_path = new_path\n",
        "                self.best_score = new_score\n",
        "            self.path = new_path\n",
        "\n",
        "    def repair_path(path):\n",
        "        repaired = []\n",
        "        for pos in path:\n",
        "            if is_valid(grid, pos) and (not repaired or pos != repaired[-1]):\n",
        "                repaired.append(pos)\n",
        "        if repaired and repaired[-1] != goal:\n",
        "            final = bfs_path(grid, repaired[-1], goal)\n",
        "            if final:\n",
        "                repaired += final[1:]\n",
        "        return repaired\n",
        "\n",
        "    swarm = [Particle() for _ in range(particles)]\n",
        "    global_best = min(swarm, key=lambda p: p.best_score).best_path\n",
        "\n",
        "    for _ in range(iterations):\n",
        "        for particle in swarm:\n",
        "            particle.update(global_best)\n",
        "        current_best = min(swarm, key=lambda p: p.best_score).best_path\n",
        "        if len(current_best) < len(global_best):\n",
        "            global_best = current_best\n",
        "\n",
        "    return global_best, items_along_path(global_best, items)"
      ],
      "metadata": {
        "id": "OglL82ve3hl8"
      },
      "execution_count": null,
      "outputs": []
    },
    {
      "cell_type": "markdown",
      "source": [
        "###Helper Functions for Path Planning\n",
        "Checks if a position (x, y) is within the grid bounds and not an obstacle."
      ],
      "metadata": {
        "id": "MvYnoPjNv6Ch"
      }
    },
    {
      "cell_type": "code",
      "source": [
        "def is_valid(grid, pos):\n",
        "    x, y = pos\n",
        "    return 0 <= x < grid.shape[0] and 0 <= y < grid.shape[1] and grid[x][y] != 1\n",
        "\n",
        "def distance(a, b):\n",
        "    return abs(a[0]-b[0]) + abs(a[1]-b[1])\n",
        "\n",
        "def items_along_path(path, items):\n",
        "    return set(pos for pos in path if pos in items)"
      ],
      "metadata": {
        "id": "QmaEXcoS3jF8"
      },
      "execution_count": null,
      "outputs": []
    },
    {
      "cell_type": "code",
      "source": [
        "def show_initial_grid(grid, start, goal, items):\n",
        "    plt.figure(figsize=(8, 8))\n",
        "\n",
        "    # Draw grid\n",
        "    for x in range(grid.shape[0]):\n",
        "        for y in range(grid.shape[1]):\n",
        "            plt.fill_between([y, y+1], x, x+1,\n",
        "                            color='black' if grid[x][y] else 'white', alpha=0.2)\n",
        "\n",
        "    # Draw items\n",
        "    item_x = [p[1]+0.5 for p in items]\n",
        "    item_y = [p[0]+0.5 for p in items]\n",
        "    plt.scatter(item_x, item_y, marker='*', s=200, color='magenta', label='Items')\n",
        "\n",
        "    # Start/goal markers\n",
        "    plt.scatter(start[1]+0.5, start[0]+0.5, marker='o', s=100, color='green', label='Start')\n",
        "    plt.scatter(goal[1]+0.5, goal[0]+0.5, marker='X', s=100, color='red', label='Goal')\n",
        "\n",
        "    plt.gca().invert_yaxis()\n",
        "    plt.xticks([])\n",
        "    plt.yticks([])\n",
        "    plt.legend()\n",
        "    plt.title(\"Initial Grid State\")\n",
        "    plt.show()"
      ],
      "metadata": {
        "id": "ByOwK-aa3oKM"
      },
      "execution_count": null,
      "outputs": []
    },
    {
      "cell_type": "code",
      "source": [
        "def plot_comparison(grid, paths, items, start, goal):\n",
        "    plt.figure(figsize=(15, 5))\n",
        "    titles = [\"ABC Path\", \"ACO Path\", \"PSO Path\"]\n",
        "    colors = ['gold', 'lime', 'cyan']\n",
        "\n",
        "    for i, (path, collected) in enumerate(paths):\n",
        "        plt.subplot(1, 3, i+1)\n",
        "\n",
        "        # Draw grid\n",
        "        for x in range(grid.shape[0]):\n",
        "            for y in range(grid.shape[1]):\n",
        "                plt.fill_between([y, y+1], x, x+1,\n",
        "                                color='black' if grid[x][y] else 'white', alpha=0.2)\n",
        "\n",
        "        # Draw path\n",
        "        px = [p[1]+0.5 for p in path]\n",
        "        py = [p[0]+0.5 for p in path]\n",
        "        plt.plot(px, py, color=colors[i], linewidth=2)\n",
        "\n",
        "        # Draw remaining items\n",
        "        remaining = items - collected\n",
        "        ix = [p[1]+0.5 for p in remaining]\n",
        "        iy = [p[0]+0.5 for p in remaining]\n",
        "        plt.scatter(ix, iy, marker='*', s=100, color='magenta')\n",
        "\n",
        "        # Start/goal markers\n",
        "        plt.scatter(start[1]+0.5, start[0]+0.5, marker='o', s=100, color='green')\n",
        "        plt.scatter(goal[1]+0.5, goal[0]+0.5, marker='X', s=100, color='red')\n",
        "\n",
        "        plt.gca().invert_yaxis()\n",
        "        plt.xticks([])\n",
        "        plt.yticks([])\n",
        "        plt.title(f\"{titles[i]}\\nItems: {len(collected)}/{len(items)}\")\n",
        "\n",
        "    plt.tight_layout()\n",
        "    plt.show()\n"
      ],
      "metadata": {
        "id": "eRjPEEO53pWk"
      },
      "execution_count": null,
      "outputs": []
    },
    {
      "cell_type": "code",
      "source": [
        "GRID_SIZE = 15\n",
        "OBSTACLES = 40\n",
        "START = (0, 0)\n",
        "GOAL = (GRID_SIZE-1, GRID_SIZE-1)"
      ],
      "metadata": {
        "id": "q7pgT7KJ3t-e"
      },
      "execution_count": null,
      "outputs": []
    },
    {
      "cell_type": "markdown",
      "source": [
        "🧱 Grid Initialization\n",
        "\n",
        "We begin by generating the environment in which the robot will operate."
      ],
      "metadata": {
        "id": "9mkHwDW9wMpm"
      }
    },
    {
      "cell_type": "code",
      "source": [
        "grid = create_grid(GRID_SIZE, OBSTACLES, START, GOAL)\n",
        "items = add_items(grid, START, GOAL)"
      ],
      "metadata": {
        "id": "5UZOHh_D3xBE"
      },
      "execution_count": null,
      "outputs": []
    },
    {
      "cell_type": "code",
      "source": [
        "show_initial_grid(grid, START, GOAL, items)"
      ],
      "metadata": {
        "id": "pLdIRrRW3zRk",
        "colab": {
          "base_uri": "https://localhost:8080/",
          "height": 675
        },
        "outputId": "ee7e31f0-e766-4264-b028-5bc61aa2ce37"
      },
      "execution_count": null,
      "outputs": [
        {
          "output_type": "display_data",
          "data": {
            "text/plain": [
              "<Figure size 800x800 with 1 Axes>"
            ],
            "image/png": "[encoded data removed]"
          },
          "metadata": {}
        }
      ]
    },
    {
      "cell_type": "markdown",
      "source": [
        "## 🧪 Running the Algorithms\n",
        "Each algorithm was run with the same initial setup:\n",
        "- Grid size: 20x20\n",
        "- Obstacles: 70 random positions\n",
        "- Items: 6 randomly placed\n",
        "- Start point: Defined\n",
        "- Goal point: Defined\n",
        "\n",
        "Below are the results and best paths found by each algorithm."
      ],
      "metadata": {
        "id": "e0HZtjG8rLjG"
      }
    },
    {
      "cell_type": "code",
      "source": [
        "abc_path, abc_items = abc_optimizer(grid, START, GOAL, items)\n",
        "aco_path, aco_items = aco_optimizer(grid, START, GOAL, items)\n",
        "pso_path, pso_items = pso_optimizer(grid, START, GOAL, items)"
      ],
      "metadata": {
        "id": "dUmXSW7834s-"
      },
      "execution_count": null,
      "outputs": []
    },
    {
      "cell_type": "code",
      "source": [
        "results = [\n",
        "    {\"Algorithm\": \"ABC\",\n",
        "     \"Path Length\": len(abc_path),\n",
        "     \"Items Collected\": f\"{len(abc_items)}/{len(items)}\",\n",
        "     \"Valid Path\": \"✅\" if abc_path[-1] == GOAL else \"❌\"},\n",
        "\n",
        "    {\"Algorithm\": \"ACO\",\n",
        "     \"Path Length\": len(aco_path),\n",
        "     \"Items Collected\": f\"{len(aco_items)}/{len(items)}\",\n",
        "     \"Valid Path\": \"✅\" if aco_path[-1] == GOAL else \"❌\"},\n",
        "\n",
        "    {\"Algorithm\": \"PSO\",\n",
        "     \"Path Length\": len(pso_path),\n",
        "     \"Items Collected\": f\"{len(pso_items)}/{len(items)}\",\n",
        "     \"Valid Path\": \"✅\" if pso_path[-1] == GOAL else \"❌\"}\n",
        "]"
      ],
      "metadata": {
        "id": "5co9MQsD5MdE"
      },
      "execution_count": null,
      "outputs": []
    },
    {
      "cell_type": "markdown",
      "source": [
        "## 📊 Results & Visualization\n",
        "\n",
        "We plotted the best path for each algorithm:\n",
        "\n",
        "- 🔵 Start point  \n",
        "- 🟢 Goal point  \n",
        "- 🟨 Items collected  \n",
        "- 🔴 Obstacles  \n",
        "- 🔷 Path taken by the agent\n",
        "\n",
        "These visualizations help us compare the performance of each method clearly."
      ],
      "metadata": {
        "id": "NnV5tMnfpGem"
      }
    },
    {
      "cell_type": "code",
      "source": [
        "print(tabulate(results, headers=\"keys\", tablefmt=\"github\"))\n",
        "plot_comparison(grid,\n",
        "               [(abc_path, abc_items), (aco_path, aco_items), (pso_path, pso_items)],\n",
        "               items, START, GOAL)"
      ],
      "metadata": {
        "colab": {
          "base_uri": "https://localhost:8080/",
          "height": 510
        },
        "id": "DMt0ljIL5Puk",
        "outputId": "7ce73c7c-3527-4bab-a7c2-325ab1a64414"
      },
      "execution_count": null,
      "outputs": [
        {
          "output_type": "stream",
          "name": "stdout",
          "text": [
            "| Algorithm   |   Path Length | Items Collected   | Valid Path   |\n",
            "|-------------|---------------|-------------------|--------------|\n",
            "| ABC         |            29 | 2/5               | ✅           |\n",
            "| ACO         |            49 | 4/5               | ✅           |\n",
            "| PSO         |            29 | 3/5               | ✅           |\n"
          ]
        },
        {
          "output_type": "display_data",
          "data": {
            "text/plain": [
              "<Figure size 1500x500 with 3 Axes>"
            ],
            "image/png": "[encoded data removed]"
          },
          "metadata": {}
        }
      ]
    },
    {
      "cell_type": "markdown",
      "source": [
        "📝 *Best Performer* : Particle Swarm Optimization (PSO)\n",
        "It provided the *best balance between efficiency and effectiveness* in our grid scenario.\n",
        "\n",
        "---"
      ],
      "metadata": {
        "id": "g0aO8h9trlaI"
      }
    }
  ]
}